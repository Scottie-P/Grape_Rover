{
 "cells": [
  {
   "cell_type": "code",
   "execution_count": 1,
   "id": "24142a0f",
   "metadata": {},
   "outputs": [],
   "source": [
    "data = {\n",
    "  \"k1\": \"v1\",\n",
    "  \"k2\": {\n",
    "    \"k2-1\": \"v2-1\",\n",
    "    \"k2-2\": {\n",
    "       \"k2-2-1\": {\n",
    "          \"k2-2-1-1\": \"blablabla\",\n",
    "       }\n",
    "    }\n",
    "  }\n",
    "}"
   ]
  },
  {
   "cell_type": "code",
   "execution_count": 2,
   "id": "8e90ae86",
   "metadata": {},
   "outputs": [
    {
     "data": {
      "text/plain": [
       "{'k1': 'v1',\n",
       " 'k2': {'k2-1': 'v2-1', 'k2-2': {'k2-2-1': {'k2-2-1-1': 'blablabla'}}}}"
      ]
     },
     "execution_count": 2,
     "metadata": {},
     "output_type": "execute_result"
    }
   ],
   "source": [
    "data\n"
   ]
  },
  {
   "cell_type": "code",
   "execution_count": 16,
   "id": "4af2bb82",
   "metadata": {},
   "outputs": [
    {
     "data": {
      "text/plain": [
       "dict_keys(['k1', 'k2'])"
      ]
     },
     "execution_count": 16,
     "metadata": {},
     "output_type": "execute_result"
    }
   ],
   "source": [
    "temp = data.keys()\n",
    "\n",
    "temp\n"
   ]
  },
  {
   "cell_type": "code",
   "execution_count": 17,
   "id": "64742418",
   "metadata": {},
   "outputs": [
    {
     "data": {
      "text/plain": [
       "dict_keys"
      ]
     },
     "execution_count": 17,
     "metadata": {},
     "output_type": "execute_result"
    }
   ],
   "source": [
    "temp"
   ]
  },
  {
   "cell_type": "code",
   "execution_count": 7,
   "id": "5681d337",
   "metadata": {},
   "outputs": [
    {
     "data": {
      "text/plain": [
       "{'k1': 'v1',\n",
       " 'k2': {'k2-1': 'v2-1', 'k2-2': {'k2-2-1': {'k2-2-1-1': 'blablabla'}}}}"
      ]
     },
     "execution_count": 7,
     "metadata": {},
     "output_type": "execute_result"
    }
   ],
   "source": [
    "show(data)"
   ]
  },
  {
   "cell_type": "code",
   "execution_count": 19,
   "id": "fe52281e",
   "metadata": {},
   "outputs": [
    {
     "data": {
      "text/plain": [
       "{'k2-1': 'v2-1', 'k2-2': {'k2-2-1': {'k2-2-1-1': 'blablabla'}}}"
      ]
     },
     "execution_count": 19,
     "metadata": {},
     "output_type": "execute_result"
    }
   ],
   "source": [
    "data['k2']"
   ]
  },
  {
   "cell_type": "code",
   "execution_count": 30,
   "id": "16562bb8",
   "metadata": {},
   "outputs": [
    {
     "data": {
      "text/plain": [
       "dict_values(['v1', {'k2-1': 'v2-1', 'k2-2': {'k2-2-1': {'k2-2-1-1': 'blablabla'}}}])"
      ]
     },
     "execution_count": 30,
     "metadata": {},
     "output_type": "execute_result"
    }
   ],
   "source": [
    "data.values()"
   ]
  },
  {
   "cell_type": "code",
   "execution_count": 39,
   "id": "e7112fb6",
   "metadata": {},
   "outputs": [
    {
     "data": {
      "text/plain": [
       "dict_items([('k1', 'v1'), ('k2', {'k2-1': 'v2-1', 'k2-2': {'k2-2-1': {'k2-2-1-1': 'blablabla'}}})])"
      ]
     },
     "execution_count": 39,
     "metadata": {},
     "output_type": "execute_result"
    }
   ],
   "source": [
    "data.items()"
   ]
  },
  {
   "cell_type": "code",
   "execution_count": 40,
   "id": "f8acd170",
   "metadata": {},
   "outputs": [
    {
     "data": {
      "text/plain": [
       "dict_keys(['k1', 'k2'])"
      ]
     },
     "execution_count": 40,
     "metadata": {},
     "output_type": "execute_result"
    }
   ],
   "source": [
    "data.keys()"
   ]
  },
  {
   "cell_type": "code",
   "execution_count": 41,
   "id": "4802dbac",
   "metadata": {},
   "outputs": [
    {
     "data": {
      "text/plain": [
       "'v1'"
      ]
     },
     "execution_count": 41,
     "metadata": {},
     "output_type": "execute_result"
    }
   ],
   "source": [
    "data['k1']"
   ]
  },
  {
   "cell_type": "code",
   "execution_count": 42,
   "id": "201d0359",
   "metadata": {},
   "outputs": [
    {
     "data": {
      "text/plain": [
       "{'k2-1': 'v2-1', 'k2-2': {'k2-2-1': {'k2-2-1-1': 'blablabla'}}}"
      ]
     },
     "execution_count": 42,
     "metadata": {},
     "output_type": "execute_result"
    }
   ],
   "source": [
    "data['k2']"
   ]
  },
  {
   "cell_type": "code",
   "execution_count": 43,
   "id": "31716770",
   "metadata": {},
   "outputs": [
    {
     "data": {
      "text/plain": [
       "dict_keys(['k2-1', 'k2-2'])"
      ]
     },
     "execution_count": 43,
     "metadata": {},
     "output_type": "execute_result"
    }
   ],
   "source": [
    "data['k2'].keys()"
   ]
  },
  {
   "cell_type": "code",
   "execution_count": 44,
   "id": "13d49032",
   "metadata": {},
   "outputs": [
    {
     "data": {
      "text/plain": [
       "'v2-1'"
      ]
     },
     "execution_count": 44,
     "metadata": {},
     "output_type": "execute_result"
    }
   ],
   "source": [
    "data['k2']['k2-1']"
   ]
  },
  {
   "cell_type": "code",
   "execution_count": 45,
   "id": "597804f7",
   "metadata": {},
   "outputs": [
    {
     "data": {
      "text/plain": [
       "{'k2-2-1': {'k2-2-1-1': 'blablabla'}}"
      ]
     },
     "execution_count": 45,
     "metadata": {},
     "output_type": "execute_result"
    }
   ],
   "source": [
    "data['k2']['k2-2']"
   ]
  },
  {
   "cell_type": "code",
   "execution_count": 46,
   "id": "55002e35",
   "metadata": {},
   "outputs": [
    {
     "data": {
      "text/plain": [
       "dict_keys(['k2-2-1'])"
      ]
     },
     "execution_count": 46,
     "metadata": {},
     "output_type": "execute_result"
    }
   ],
   "source": [
    "data['k2']['k2-2'].keys()"
   ]
  },
  {
   "cell_type": "code",
   "execution_count": 49,
   "id": "2ecd7f54",
   "metadata": {},
   "outputs": [
    {
     "data": {
      "text/plain": [
       "dict_keys(['k2-2-1-1'])"
      ]
     },
     "execution_count": 49,
     "metadata": {},
     "output_type": "execute_result"
    }
   ],
   "source": [
    "data['k2']['k2-2']['k2-2-1'].keys()"
   ]
  },
  {
   "cell_type": "code",
   "execution_count": 50,
   "id": "27b0bc2c",
   "metadata": {},
   "outputs": [
    {
     "data": {
      "text/plain": [
       "'blablabla'"
      ]
     },
     "execution_count": 50,
     "metadata": {},
     "output_type": "execute_result"
    }
   ],
   "source": [
    "data['k2']['k2-2']['k2-2-1']['k2-2-1-1']"
   ]
  },
  {
   "cell_type": "code",
   "execution_count": 51,
   "id": "7584c652",
   "metadata": {},
   "outputs": [
    {
     "data": {
      "text/plain": [
       "str"
      ]
     },
     "execution_count": 51,
     "metadata": {},
     "output_type": "execute_result"
    }
   ],
   "source": [
    "temp = data['k2']['k2-2']['k2-2-1']['k2-2-1-1']\n",
    "\n",
    "type(temp)"
   ]
  },
  {
   "cell_type": "code",
   "execution_count": 52,
   "id": "da50995e",
   "metadata": {},
   "outputs": [
    {
     "data": {
      "text/plain": [
       "dict_keys(['k1', 'k2'])"
      ]
     },
     "execution_count": 52,
     "metadata": {},
     "output_type": "execute_result"
    }
   ],
   "source": [
    "temp = data.keys()\n",
    "temp"
   ]
  },
  {
   "cell_type": "code",
   "execution_count": 65,
   "id": "06397334",
   "metadata": {},
   "outputs": [
    {
     "data": {
      "text/plain": [
       "dict_items([('k1', 'v1'), ('k2', {'k2-1': 'v2-1', 'k2-2': {'k2-2-1': {'k2-2-1-1': 'blablabla'}}})])"
      ]
     },
     "execution_count": 65,
     "metadata": {},
     "output_type": "execute_result"
    }
   ],
   "source": [
    "data.items()"
   ]
  },
  {
   "cell_type": "code",
   "execution_count": 73,
   "id": "6dbebbaf",
   "metadata": {},
   "outputs": [
    {
     "data": {
      "text/plain": [
       "'k2'"
      ]
     },
     "execution_count": 73,
     "metadata": {},
     "output_type": "execute_result"
    }
   ],
   "source": [
    "list(data.keys())[1]"
   ]
  },
  {
   "cell_type": "code",
   "execution_count": 71,
   "id": "b7002023",
   "metadata": {},
   "outputs": [
    {
     "data": {
      "text/plain": [
       "dict_keys(['k1', 'k2'])"
      ]
     },
     "execution_count": 71,
     "metadata": {},
     "output_type": "execute_result"
    }
   ],
   "source": [
    "data.keys()"
   ]
  },
  {
   "cell_type": "code",
   "execution_count": 181,
   "id": "70615072",
   "metadata": {},
   "outputs": [
    {
     "ename": "SyntaxError",
     "evalue": "invalid syntax (2437878918.py, line 5)",
     "output_type": "error",
     "traceback": [
      "\u001b[0;36m  File \u001b[0;32m\"/var/folders/z2/wscz3yzn6czc49xxsp2yl5100000gp/T/ipykernel_74286/2437878918.py\"\u001b[0;36m, line \u001b[0;32m5\u001b[0m\n\u001b[0;31m    if type(dict_data[temp[0]] == str:\u001b[0m\n\u001b[0m                                     ^\u001b[0m\n\u001b[0;31mSyntaxError\u001b[0m\u001b[0;31m:\u001b[0m invalid syntax\n"
     ]
    }
   ],
   "source": [
    "def show(data):\n",
    "    temp = list(data.keys())\n",
    "    \n",
    "    #loop here, if not avoidable\n",
    "    if type(data[temp[0]] == str:\n",
    "        save_keys = save_keys.append(data[temp[0]])\n",
    "        skip\n",
    "    else:\n",
    "        #call function\n",
    "        save_keys = show(temp[0])"
   ]
  },
  {
   "cell_type": "code",
   "execution_count": 81,
   "id": "3a5d9da7",
   "metadata": {},
   "outputs": [
    {
     "data": {
      "text/plain": [
       "['k1', 'k2']"
      ]
     },
     "execution_count": 81,
     "metadata": {},
     "output_type": "execute_result"
    }
   ],
   "source": [
    "temp = list(data.keys())\n",
    "\n",
    "temp"
   ]
  },
  {
   "cell_type": "code",
   "execution_count": 87,
   "id": "8ed80010",
   "metadata": {},
   "outputs": [
    {
     "data": {
      "text/plain": [
       "str"
      ]
     },
     "execution_count": 87,
     "metadata": {},
     "output_type": "execute_result"
    }
   ],
   "source": [
    "type(data[temp[0]])"
   ]
  },
  {
   "cell_type": "code",
   "execution_count": 92,
   "id": "18d0e791",
   "metadata": {},
   "outputs": [
    {
     "data": {
      "text/plain": [
       "['k1', 'k2']"
      ]
     },
     "execution_count": 92,
     "metadata": {},
     "output_type": "execute_result"
    }
   ],
   "source": [
    "temp_keys = list(data.keys())\n",
    "temp_keys"
   ]
  },
  {
   "cell_type": "code",
   "execution_count": 98,
   "id": "64c0bea5",
   "metadata": {},
   "outputs": [
    {
     "data": {
      "text/plain": [
       "str"
      ]
     },
     "execution_count": 98,
     "metadata": {},
     "output_type": "execute_result"
    }
   ],
   "source": [
    "type(temp_keys[1])"
   ]
  },
  {
   "cell_type": "code",
   "execution_count": 111,
   "id": "99336e41",
   "metadata": {},
   "outputs": [
    {
     "data": {
      "text/plain": [
       "['k1', 'k2']"
      ]
     },
     "execution_count": 111,
     "metadata": {},
     "output_type": "execute_result"
    }
   ],
   "source": [
    "save_keys = []\n",
    "for item in temp_keys:\n",
    "    #print(item)\n",
    "    save_keys.append(item)\n",
    "save_keys"
   ]
  },
  {
   "cell_type": "code",
   "execution_count": 107,
   "id": "c9e9b8eb",
   "metadata": {},
   "outputs": [
    {
     "data": {
      "text/plain": [
       "['test', 'test']"
      ]
     },
     "execution_count": 107,
     "metadata": {},
     "output_type": "execute_result"
    }
   ],
   "source": [
    "#temp_lst = []\n",
    "\n",
    "temp_lst.append('test')\n",
    "\n",
    "temp_lst"
   ]
  },
  {
   "cell_type": "code",
   "execution_count": 171,
   "id": "157a8b62",
   "metadata": {},
   "outputs": [],
   "source": [
    "save_keys = []\n",
    "\n",
    "def show(data):\n",
    "    save_keys = []\n",
    "    temp_keys = list(data.keys())\n",
    "    for item in temp_keys:\n",
    "        if type(data[item]) == str:\n",
    "            save_keys.append(item)\n",
    "        else:\n",
    "            print(data(item))\n",
    "            #temp_save_keys = show(temp_keys[i])\n",
    "            #print(temp_save_keys)\n",
    "    return save_keys"
   ]
  },
  {
   "cell_type": "code",
   "execution_count": 169,
   "id": "b6e4ccc9",
   "metadata": {},
   "outputs": [
    {
     "data": {
      "text/plain": [
       "{'k2-1': 'v2-1', 'k2-2': {'k2-2-1': {'k2-2-1-1': 'blablabla'}}}"
      ]
     },
     "execution_count": 169,
     "metadata": {},
     "output_type": "execute_result"
    }
   ],
   "source": [
    "data[temp_keys[1]]"
   ]
  },
  {
   "cell_type": "code",
   "execution_count": 139,
   "id": "053790b8",
   "metadata": {},
   "outputs": [
    {
     "data": {
      "text/plain": [
       "False"
      ]
     },
     "execution_count": 139,
     "metadata": {},
     "output_type": "execute_result"
    }
   ],
   "source": [
    "type(data[temp_keys[1]]) == str"
   ]
  },
  {
   "cell_type": "code",
   "execution_count": 154,
   "id": "b1d03712",
   "metadata": {},
   "outputs": [
    {
     "name": "stdout",
     "output_type": "stream",
     "text": [
      "{'k2-1': 'v2-1', 'k2-2': {'k2-2-1': {'k2-2-1-1': 'blablabla'}}}\n"
     ]
    },
    {
     "ename": "TypeError",
     "evalue": "list indices must be integers or slices, not dict",
     "output_type": "error",
     "traceback": [
      "\u001b[0;31m---------------------------------------------------------------------------\u001b[0m",
      "\u001b[0;31mTypeError\u001b[0m                                 Traceback (most recent call last)",
      "\u001b[0;32m/var/folders/z2/wscz3yzn6czc49xxsp2yl5100000gp/T/ipykernel_74286/127396209.py\u001b[0m in \u001b[0;36m<module>\u001b[0;34m\u001b[0m\n\u001b[1;32m      3\u001b[0m \u001b[0mprint\u001b[0m\u001b[0;34m(\u001b[0m\u001b[0mitem\u001b[0m\u001b[0;34m)\u001b[0m\u001b[0;34m\u001b[0m\u001b[0;34m\u001b[0m\u001b[0m\n\u001b[1;32m      4\u001b[0m \u001b[0;34m\u001b[0m\u001b[0m\n\u001b[0;32m----> 5\u001b[0;31m \u001b[0mtype\u001b[0m\u001b[0;34m(\u001b[0m\u001b[0mdata\u001b[0m\u001b[0;34m[\u001b[0m\u001b[0mtemp_keys\u001b[0m\u001b[0;34m[\u001b[0m\u001b[0mitem\u001b[0m\u001b[0;34m]\u001b[0m\u001b[0;34m]\u001b[0m\u001b[0;34m)\u001b[0m \u001b[0;34m==\u001b[0m \u001b[0mstr\u001b[0m\u001b[0;34m\u001b[0m\u001b[0;34m\u001b[0m\u001b[0m\n\u001b[0m",
      "\u001b[0;31mTypeError\u001b[0m: list indices must be integers or slices, not dict"
     ]
    }
   ],
   "source": [
    "item = data[temp_keys[1]]\n",
    "\n",
    "print(item)\n",
    "\n",
    "type(data[temp_keys[item]]) == str"
   ]
  },
  {
   "cell_type": "code",
   "execution_count": 159,
   "id": "cd08abeb",
   "metadata": {},
   "outputs": [
    {
     "data": {
      "text/plain": [
       "False"
      ]
     },
     "execution_count": 159,
     "metadata": {},
     "output_type": "execute_result"
    }
   ],
   "source": [
    "item == str"
   ]
  },
  {
   "cell_type": "code",
   "execution_count": null,
   "id": "73f16ec1",
   "metadata": {},
   "outputs": [],
   "source": []
  },
  {
   "cell_type": "code",
   "execution_count": 205,
   "id": "a5a87422",
   "metadata": {},
   "outputs": [],
   "source": [
    "def show(data):\n",
    "    save_keys = []\n",
    "    temp_keys = list(data.keys())\n",
    "    for item in temp_keys:\n",
    "        if type(data[item]) == str:\n",
    "            save_keys.append(item)\n",
    "            #print(item)\n",
    "        else:\n",
    "            save_keys.append(item)\n",
    "            temp_save_keys = show(data[item])\n",
    "            #print(temp_save_keys)\n",
    "            save_keys.append(temp_save_keys)\n",
    "    return save_keys"
   ]
  },
  {
   "cell_type": "code",
   "execution_count": 206,
   "id": "878dda22",
   "metadata": {},
   "outputs": [
    {
     "data": {
      "text/plain": [
       "['k1', 'k2', ['k2-1', 'k2-2', ['k2-2-1', ['k2-2-1-1']]]]"
      ]
     },
     "execution_count": 206,
     "metadata": {},
     "output_type": "execute_result"
    }
   ],
   "source": [
    "dict_data = {\n",
    "  \"k1\": \"v1\",\n",
    "  \"k2\": {\n",
    "    \"k2-1\": \"v2-1\",\n",
    "    \"k2-2\": {\n",
    "       \"k2-2-1\": {\n",
    "          \"k2-2-1-1\": \"blablabla\",\n",
    "       }\n",
    "    }\n",
    "  }\n",
    "}\n",
    "\n",
    "show(dict_data)"
   ]
  },
  {
   "cell_type": "code",
   "execution_count": 200,
   "id": "52e9947d",
   "metadata": {},
   "outputs": [
    {
     "data": {
      "text/plain": [
       "{'k2-1': 'v2-1', 'k2-2': {'k2-2-1': {'k2-2-1-1': 'blablabla'}}}"
      ]
     },
     "execution_count": 200,
     "metadata": {},
     "output_type": "execute_result"
    }
   ],
   "source": [
    "new_data = temp_keys[1]\n",
    "dict_data[new_data]\n",
    "\n",
    "\n",
    "#print(new_data.keys())\n",
    "\n",
    "#list(new_data.keys())"
   ]
  },
  {
   "cell_type": "code",
   "execution_count": null,
   "id": "29eafb1d",
   "metadata": {},
   "outputs": [],
   "source": []
  }
 ],
 "metadata": {
  "kernelspec": {
   "display_name": "Python 3 (ipykernel)",
   "language": "python",
   "name": "python3"
  },
  "language_info": {
   "codemirror_mode": {
    "name": "ipython",
    "version": 3
   },
   "file_extension": ".py",
   "mimetype": "text/x-python",
   "name": "python",
   "nbconvert_exporter": "python",
   "pygments_lexer": "ipython3",
   "version": "3.9.13"
  }
 },
 "nbformat": 4,
 "nbformat_minor": 5
}
